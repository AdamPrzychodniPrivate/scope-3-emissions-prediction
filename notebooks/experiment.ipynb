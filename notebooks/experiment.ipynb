{
 "cells": [
  {
   "attachments": {},
   "cell_type": "markdown",
   "metadata": {},
   "source": [
    "# Plan\n",
    "1. Create ML Model based on this dataset\n",
    "2. Create models for specific industries "
   ]
  },
  {
   "attachments": {},
   "cell_type": "markdown",
   "metadata": {},
   "source": [
    "# Project Structure:\n",
    "1. Abstract\n",
    "2. Load data\n",
    "3. EDA\n",
    "4. Preprocess data\n",
    "5. Feature engineering\n",
    "6. Train, test split\n",
    "7. Modelling\n",
    "8. Model evaluation\n",
    "9. Hyperparameter tuning \n",
    "10. Model Interpretation \n",
    "11. Results and conclusions\n",
    "12. References and Acknowledgments"
   ]
  },
  {
   "attachments": {},
   "cell_type": "markdown",
   "metadata": {},
   "source": [
    "# Abstract \n",
    "Title: Predicting Scope 3 Emissions using Machine Learning: A Novel Approach\n",
    "\n",
    "The following research of mine is based on a study conducted by Serafeim, George and Velez Caicedo, Gladys. 2022. \"Machine Learning Models for Prediction of Scope 3 Carbon Emissions.\" Harvard Business School Working Paper, 2022. \n",
    "\n",
    "I would like to thank the authors for sharing their methodology and data, which allows me to independently conduct research and modeling and then compare the results with the conclusions of the researchers thanks to which I have a great opportunity to learn and to lead the research in new directions by updating the model."
   ]
  },
  {
   "cell_type": "code",
   "execution_count": 1,
   "metadata": {},
   "outputs": [],
   "source": [
    "import polars as pl\n",
    "import numpy as np\n",
    "import pandas as pd\n",
    "from ydata_profiling import ProfileReport"
   ]
  },
  {
   "attachments": {},
   "cell_type": "markdown",
   "metadata": {},
   "source": [
    "## Data Guidence"
   ]
  },
  {
   "attachments": {},
   "cell_type": "markdown",
   "metadata": {},
   "source": [
    "Copyright © 2022 by George Serafeim and Gladys Velez Caicedo. \"Machine Learning Models for Prediction of Scope 3 Carbon Emissions.\" Harvard Business School Working Paper, 2022\t\t\n",
    "Funding for this research was provided in part by Harvard Business School.\t\t\n",
    "\t\t\n",
    "Data source: \t\t\n",
    "“Serafeim, George and Velez Caicedo, Gladys. 2022. \"Machine Learning Models for Prediction of Scope 3 Carbon Emissions.\" Harvard Business School Working Paper, 2022\t\t\n",
    "\t\t\n",
    "GUIDANCE:\t\t\n",
    "Column A \"Year\" is the year in which the environmental impact was incurred by the firm's operations.\t\t\n",
    "\t\t\n",
    "Column B \"Company Name\" is the name of the issuer.\t\t\n",
    "\t\t\n",
    "Column C \"Country\" is the country in which the companies' headquarters are located.\t\t\n",
    "\t\t\n",
    "Column D \"Industry\" refers to the Exiobase industry category to which the firm belongs: We provide only the Exiobase industries here as they are open source, but in our paper, we use GICS taxonomy as fixed effects.\t\t\n",
    "All Exiobase industries are based on the International Standard Industrial Classification Revision 3.1 (ISIC). \tTo learn more about ISIC and a comprehensive list of industries included, please refer to: unstats.un.org/unsd/statcom/doc02/isic.pdf\t\n",
    "\tFor example, the term \"nec\" refers to \"not elsewhere classified.\"\t\n",
    "\t\t\n",
    "Column E \"GHG Intensity (Sales)\" is the monetized GHG impact of the firm's operations during the specific year indicated in column A divided by revenue in that year\t\t\n",
    "\t\t\n",
    "Column F \"GHG Intensity (Op Inc)\" is the monetized GHG impact of the firm's operations during the specific year indicated in column A divided by operating income in that year\t\t\n",
    "\t\t\n",
    "Column G \"Total GHG Environmental Cost (Scope 1, 2, 3) \" is the total monetized GHG environmental impact of Scope 1, 2, and 3 emissions of the firm's operations during the specific year indicated in Column A.\t\t\n",
    "\t\t\n",
    "Columns H-J are Scope 1, 2, 3 Emissions\t\t\n",
    "Each scope of emissions is defined by the GHG Protocol. More information can be found at the Greenhouse Gas Protocol: https://ghgprotocol.org/\t\t\n",
    "\tColumn H:\t Scope 1 Emissions: emissions from direct operations that occur from sources that are controlled or owned by the firm \n",
    "\tColumn I:\t Scope 2 Emissions: emissions associated with the purchase of electricity, steam, heat, or cooling as a result of the firm's energy use \n",
    "\tColumn J:\t Scope 3 Emissions: emissions from 15 categories that are result of activities from assets not owned or controlled by the reporting firm, not within a firm's scope 1 and 2 boundary and occur through the value chain. \n",
    "\t\t\n",
    "Columns K-BC are fiveteen Scope 3 emissions category types in alphabetical order followed by an indicator variable denoting if the data point is company reported (0) or if the data point is predicted via machine learning (1)\t\t\n",
    "\tColumn K\tBusiness Travel\n",
    "\tColumn N:\tCapital Goods\n",
    "\tColumn Q:\tDownstream Leased Assets\n",
    "\tColumn T:\tDownstream Transportation and Distribution\n",
    "\tColumn W:\tEmployee Commuting\n",
    "\tColumn Z:\tEnd of Life Treatment of Sold Products\n",
    "\tColumn AC:\tFranchises\n",
    "\tColumn AF:\tFuel-and-energy-related activities (not included in Scope 1 or 2)\n",
    "\tColumn AI:\tInvestments\n",
    "\tColumn AL:\tProcessing of Sold Products\n",
    "\tColumn AO:\tPurchased Goods and Services\n",
    "\tColumn AR:\tUpstream Leased Assets\n",
    "\tColumn AU:\tUpstream Transportation and Distribution\n",
    "\tColumn AX:\tUse of Sold Products\n",
    "\tColumn BA:\tWaste Generated in Operations\n",
    "\t\t\n",
    "The dataset is a combination of primary firm reported emissions data supplemented with Scope 3 predictions by category.\t\t\n",
    "Our methodology takes firm reported values first and incorporates imputations only when companies' self-reported emissions data are not publicly available.\t\t\n",
    "If the data point is imputed, the Scope 3 category \"Imputed\" value is 1.\t\t\n",
    "If the data point is company reported, the Scope 3 category \"Imputed\" value is 0.\t\t\n",
    "The Scope 3 category \"Test\" column indicates if the data point was used to \"train\" or \"test\" the machine learning model. If no company value is reported, the value. Is set to \"none\". \t\t\n",
    "\t\t\n",
    "Other Notes:\t\t\n",
    "The \"Final Raw Sample(0%)\" tab includes all raw outputs, discounted at 0%, from our environmental impact calculation methodology. The Social Cost of Carbon discounted at 0% applied here is roughly $300 USD per metric ton of emissions.\t\t\n",
    "The \"Final Raw Sample(3%)\" tab includes all raw outputs, discounted at 3%, from our environmental impact calculation methodology. The Social Cost of Carbon discounted at 3% applied here is roughly $100 USD per metric ton of emissions.\t\t\n",
    "All observations in the tabs are sorted by 1) Year in descending order, 2) Industry in alphabetical order, and 3) Environmental Intensity (Sales) in descending order.\t\t\n",
    "\t\t\n",
    "\t\t\n",
    "Also, if you are a researcher planning to use the data in an academic research project, please email us and we will send you a file including ISINs to facilitate merging with other datasets.\t\t\n",
    "Our team can be reached at: ImpactWeightedAccounts@hbs.edu"
   ]
  },
  {
   "attachments": {},
   "cell_type": "markdown",
   "metadata": {},
   "source": [
    "# Load data "
   ]
  },
  {
   "cell_type": "code",
   "execution_count": 3,
   "metadata": {},
   "outputs": [
    {
     "data": {
      "text/html": [
       "<div><style>\n",
       ".dataframe > thead > tr > th,\n",
       ".dataframe > tbody > tr > td {\n",
       "  text-align: right;\n",
       "}\n",
       "</style>\n",
       "<small>shape: (5, 55)</small><table border=\"1\" class=\"dataframe\"><thead><tr><th>Year</th><th>Company Name</th><th>Country</th><th>Industry (Exiobase)</th><th>GHG Intensity (Sales)</th><th>GHG Intensity (Op Income)</th><th>Total GHG Environmental Impact (Scope 1, 2, 3)</th><th>Scope 1</th><th>Scope 2</th><th>Scope 3 </th><th>Business Travel</th><th>Business Travel Set</th><th>Business Travel Imputed</th><th>Capital Goods</th><th>Capital Goods Set</th><th>Capital Goods Imputed</th><th>Downstream Leased Assets</th><th>Downstream Leased Assets Set</th><th>Downstream Leased Assets Imputed</th><th>Downstream Transportation and Distribution</th><th>Downstream Transportation and Distribution Set</th><th>Downstream Transportation and Distribution Imputed</th><th>Employee Commuting</th><th>Employee Commuting Set</th><th>Employee Commuting Imputed</th><th>End of Life Treatment of Sold Products</th><th>End of Life Treatment of Sold Products Set</th><th>End of Life Treatment of Sold Products Imputed</th><th>Franchises</th><th>Franchises Set</th><th>Franchises Imputed</th><th>Fuel-and-energy-related activities (not included in Scope 1 or 2)</th><th>Fuel-and-energy-related activities (not included in Scope 1 or 2) Set</th><th>Fuel-and-energy-related activities (not included in Scope 1 or 2) Imputed</th><th>Investments</th><th>Investments Set</th><th>Investments Imputed</th><th>Processing of Sold Products</th><th>Processing of Sold Products Set</th><th>Processing of Sold Products Imputed</th><th>Purchased Goods and Services</th><th>Purchased Goods and Services Set</th><th>Purchased Goods and Services Imputed</th><th>Upstream Leased Assets</th><th>Upstream Leased Assets Set</th><th>Upstream Leased Assets Imputed</th><th>Upstream Transportation and Distribution</th><th>Upstream Transportation and Distribution Set</th><th>Upstream Transportation and Distribution Imputed</th><th>Use of Sold Products</th><th>Use of Sold Products Set</th><th>Use of Sold Products Imputed</th><th>Waste Generated in Operations</th><th>Waste Generated in Operations Set</th><th>Waste Generated in Operations Imputed</th></tr><tr><td>i64</td><td>str</td><td>str</td><td>str</td><td>f64</td><td>f64</td><td>f64</td><td>f64</td><td>f64</td><td>f64</td><td>f64</td><td>str</td><td>i64</td><td>f64</td><td>str</td><td>i64</td><td>f64</td><td>str</td><td>i64</td><td>f64</td><td>str</td><td>i64</td><td>f64</td><td>str</td><td>i64</td><td>f64</td><td>str</td><td>i64</td><td>f64</td><td>str</td><td>i64</td><td>f64</td><td>str</td><td>i64</td><td>f64</td><td>str</td><td>i64</td><td>f64</td><td>str</td><td>i64</td><td>f64</td><td>str</td><td>i64</td><td>f64</td><td>str</td><td>i64</td><td>f64</td><td>str</td><td>i64</td><td>f64</td><td>str</td><td>i64</td><td>f64</td><td>str</td><td>i64</td></tr></thead><tbody><tr><td>2020</td><td>&quot;REA GROUP LTD&quot;</td><td>&quot;AUSTRALIA&quot;</td><td>&quot;Recreational, …</td><td>-0.008351</td><td>-0.017857</td><td>-5.0822e6</td><td>-79.675141</td><td>-109280.146543</td><td>-4.9728e6</td><td>-249656.362284</td><td>&quot;train&quot;</td><td>0</td><td>-47577.441157</td><td>&quot;predicted&quot;</td><td>1</td><td>-34431.042943</td><td>&quot;predicted&quot;</td><td>1</td><td>-29981.755443</td><td>&quot;predicted&quot;</td><td>1</td><td>-72788.932106</td><td>&quot;train&quot;</td><td>0</td><td>-140569.71251</td><td>&quot;predicted&quot;</td><td>1</td><td>0.0</td><td>&quot;predicted&quot;</td><td>1</td><td>-10050.44989</td><td>&quot;train&quot;</td><td>0</td><td>0.0</td><td>&quot;predicted&quot;</td><td>1</td><td>-3.8007e6</td><td>&quot;predicted&quot;</td><td>1</td><td>-40327.003354</td><td>&quot;train&quot;</td><td>0</td><td>-115870.418895</td><td>&quot;train&quot;</td><td>0</td><td>-162293.708729</td><td>&quot;predicted&quot;</td><td>1</td><td>-251742.712753</td><td>&quot;predicted&quot;</td><td>1</td><td>-16800.072524</td><td>&quot;train&quot;</td><td>0</td></tr><tr><td>2020</td><td>&quot;SEEK LTD&quot;</td><td>&quot;AUSTRALIA&quot;</td><td>&quot;Recreational, …</td><td>-0.006768</td><td>-0.041618</td><td>-7.4505e6</td><td>-417435.789792</td><td>-129756.657702</td><td>-6.9033e6</td><td>-312212.729891</td><td>&quot;test&quot;</td><td>0</td><td>-35057.061905</td><td>&quot;train&quot;</td><td>0</td><td>-110065.515787</td><td>&quot;predicted&quot;</td><td>1</td><td>-556075.57123</td><td>&quot;predicted&quot;</td><td>1</td><td>-42569.289457</td><td>&quot;train&quot;</td><td>0</td><td>-126000.543926</td><td>&quot;predicted&quot;</td><td>1</td><td>0.0</td><td>&quot;predicted&quot;</td><td>1</td><td>-12065.092734</td><td>&quot;test&quot;</td><td>0</td><td>0.0</td><td>&quot;predicted&quot;</td><td>1</td><td>-788442.427983</td><td>&quot;predicted&quot;</td><td>1</td><td>-98114.244683</td><td>&quot;train&quot;</td><td>0</td><td>-135220.095921</td><td>&quot;train&quot;</td><td>0</td><td>-383578.891627</td><td>&quot;predicted&quot;</td><td>1</td><td>-4.2188e6</td><td>&quot;predicted&quot;</td><td>1</td><td>-85138.578913</td><td>&quot;train&quot;</td><td>0</td></tr><tr><td>2020</td><td>&quot;SIMS LTD&quot;</td><td>&quot;UNITED STATES&quot;</td><td>&quot;Manufacture of…</td><td>-0.19019</td><td>null</td><td>-6.4545e8</td><td>-7.2562e6</td><td>-7.5715e6</td><td>-6.3062e8</td><td>-236193.539939</td><td>&quot;predicted&quot;</td><td>1</td><td>-3.1044e6</td><td>&quot;predicted&quot;</td><td>1</td><td>-688393.215597</td><td>&quot;predicted&quot;</td><td>1</td><td>-1.3227e7</td><td>&quot;train&quot;</td><td>0</td><td>-464114.523841</td><td>&quot;predicted&quot;</td><td>1</td><td>-383465.069998</td><td>&quot;predicted&quot;</td><td>1</td><td>0.0</td><td>&quot;predicted&quot;</td><td>1</td><td>-2.2353e6</td><td>&quot;predicted&quot;</td><td>1</td><td>0.0</td><td>&quot;predicted&quot;</td><td>1</td><td>-1.0371e8</td><td>&quot;predicted&quot;</td><td>1</td><td>-3.3176e7</td><td>&quot;predicted&quot;</td><td>1</td><td>-164244.611459</td><td>&quot;predicted&quot;</td><td>1</td><td>-4.4390e6</td><td>&quot;predicted&quot;</td><td>1</td><td>-3.8444e8</td><td>&quot;predicted&quot;</td><td>1</td><td>-8.4353e7</td><td>&quot;train&quot;</td><td>0</td></tr><tr><td>2020</td><td>&quot;TRANSURBAN GRO…</td><td>&quot;AUSTRALIA&quot;</td><td>&quot;Other land tra…</td><td>-0.039985</td><td>-0.218081</td><td>-9.9784e7</td><td>-499790.775411</td><td>-1.5853e7</td><td>-8.3431e7</td><td>-291611.014941</td><td>&quot;train&quot;</td><td>0</td><td>-4.6137e7</td><td>&quot;train&quot;</td><td>0</td><td>-403542.067237</td><td>&quot;predicted&quot;</td><td>1</td><td>-341464.888689</td><td>&quot;predicted&quot;</td><td>1</td><td>-270212.548583</td><td>&quot;train&quot;</td><td>0</td><td>-126000.543926</td><td>&quot;predicted&quot;</td><td>1</td><td>0.0</td><td>&quot;predicted&quot;</td><td>1</td><td>-1.9816e6</td><td>&quot;train&quot;</td><td>0</td><td>-5.2981e6</td><td>&quot;test&quot;</td><td>0</td><td>-8.7355e6</td><td>&quot;predicted&quot;</td><td>1</td><td>-1.8394e7</td><td>&quot;train&quot;</td><td>0</td><td>-223065.353185</td><td>&quot;predicted&quot;</td><td>1</td><td>-920795.357055</td><td>&quot;predicted&quot;</td><td>1</td><td>-52758.601735</td><td>&quot;predicted&quot;</td><td>1</td><td>-255074.271851</td><td>&quot;test&quot;</td><td>0</td></tr><tr><td>2020</td><td>&quot;WORLEY LTD&quot;</td><td>&quot;AUSTRALIA&quot;</td><td>&quot;Extraction of …</td><td>-0.010303</td><td>-0.212981</td><td>-9.2747e7</td><td>-6.6828e6</td><td>-8.7999e6</td><td>-7.7264e7</td><td>-1.6420e6</td><td>&quot;train&quot;</td><td>0</td><td>-2.5001e6</td><td>&quot;predicted&quot;</td><td>1</td><td>-264976.753623</td><td>&quot;predicted&quot;</td><td>1</td><td>-1.7549e6</td><td>&quot;predicted&quot;</td><td>1</td><td>-517205.484734</td><td>&quot;predicted&quot;</td><td>1</td><td>-2.8353e6</td><td>&quot;predicted&quot;</td><td>1</td><td>0.0</td><td>&quot;predicted&quot;</td><td>1</td><td>-1.6276e6</td><td>&quot;predicted&quot;</td><td>1</td><td>0.0</td><td>&quot;predicted&quot;</td><td>1</td><td>-6.7533e6</td><td>&quot;predicted&quot;</td><td>1</td><td>-7.2040e6</td><td>&quot;predicted&quot;</td><td>1</td><td>-113144.390867</td><td>&quot;predicted&quot;</td><td>1</td><td>-2.0488e6</td><td>&quot;predicted&quot;</td><td>1</td><td>-4.9535e7</td><td>&quot;predicted&quot;</td><td>1</td><td>-467920.719134</td><td>&quot;predicted&quot;</td><td>1</td></tr></tbody></table></div>"
      ],
      "text/plain": [
       "shape: (5, 55)\n",
       "┌──────┬────────────┬─────────┬────────────┬───┬────────────┬────────────┬────────────┬────────────┐\n",
       "│ Year ┆ Company    ┆ Country ┆ Industry   ┆ … ┆ Use of     ┆ Waste      ┆ Waste      ┆ Waste      │\n",
       "│ ---  ┆ Name       ┆ ---     ┆ (Exiobase) ┆   ┆ Sold       ┆ Generated  ┆ Generated  ┆ Generated  │\n",
       "│ i64  ┆ ---        ┆ str     ┆ ---        ┆   ┆ Products   ┆ in         ┆ in         ┆ in         │\n",
       "│      ┆ str        ┆         ┆ str        ┆   ┆ Imputed    ┆ Operations ┆ Operations ┆ Operations │\n",
       "│      ┆            ┆         ┆            ┆   ┆ ---        ┆ ---        ┆ Se…        ┆ Im…        │\n",
       "│      ┆            ┆         ┆            ┆   ┆ i64        ┆ f64        ┆ ---        ┆ ---        │\n",
       "│      ┆            ┆         ┆            ┆   ┆            ┆            ┆ str        ┆ i64        │\n",
       "╞══════╪════════════╪═════════╪════════════╪═══╪════════════╪════════════╪════════════╪════════════╡\n",
       "│ 2020 ┆ REA GROUP  ┆ AUSTRAL ┆ Recreation ┆ … ┆ 1          ┆ -16800.072 ┆ train      ┆ 0          │\n",
       "│      ┆ LTD        ┆ IA      ┆ al,        ┆   ┆            ┆ 524        ┆            ┆            │\n",
       "│      ┆            ┆         ┆ cultural   ┆   ┆            ┆            ┆            ┆            │\n",
       "│      ┆            ┆         ┆ and sport… ┆   ┆            ┆            ┆            ┆            │\n",
       "│ 2020 ┆ SEEK LTD   ┆ AUSTRAL ┆ Recreation ┆ … ┆ 1          ┆ -85138.578 ┆ train      ┆ 0          │\n",
       "│      ┆            ┆ IA      ┆ al,        ┆   ┆            ┆ 913        ┆            ┆            │\n",
       "│      ┆            ┆         ┆ cultural   ┆   ┆            ┆            ┆            ┆            │\n",
       "│      ┆            ┆         ┆ and sport… ┆   ┆            ┆            ┆            ┆            │\n",
       "│ 2020 ┆ SIMS LTD   ┆ UNITED  ┆ Manufactur ┆ … ┆ 1          ┆ -8.4353e7  ┆ train      ┆ 0          │\n",
       "│      ┆            ┆ STATES  ┆ e of basic ┆   ┆            ┆            ┆            ┆            │\n",
       "│      ┆            ┆         ┆ iron and   ┆   ┆            ┆            ┆            ┆            │\n",
       "│      ┆            ┆         ┆ st…        ┆   ┆            ┆            ┆            ┆            │\n",
       "│ 2020 ┆ TRANSURBAN ┆ AUSTRAL ┆ Other land ┆ … ┆ 1          ┆ -255074.27 ┆ test       ┆ 0          │\n",
       "│      ┆ GROUP      ┆ IA      ┆ transport  ┆   ┆            ┆ 1851       ┆            ┆            │\n",
       "│ 2020 ┆ WORLEY LTD ┆ AUSTRAL ┆ Extraction ┆ … ┆ 1          ┆ -467920.71 ┆ predicted  ┆ 1          │\n",
       "│      ┆            ┆ IA      ┆ of crude   ┆   ┆            ┆ 9134       ┆            ┆            │\n",
       "│      ┆            ┆         ┆ petroleum  ┆   ┆            ┆            ┆            ┆            │\n",
       "│      ┆            ┆         ┆ an…        ┆   ┆            ┆            ┆            ┆            │\n",
       "└──────┴────────────┴─────────┴────────────┴───┴────────────┴────────────┴────────────┴────────────┘"
      ]
     },
     "execution_count": 3,
     "metadata": {},
     "output_type": "execute_result"
    }
   ],
   "source": [
    "# Trainging dataset\n",
    "df = pl.read_excel(\n",
    "    \"/home/adamprzychodni/Documents/GitHub/scope-3-emissions-prediction/data/01_raw/IWA-External-Scope-3-Data.xlsx\",\n",
    "    sheet_name=\"3%\",\n",
    ")\n",
    "\n",
    "# 3% tab includes all raw outputs, discounted at 3%, from our environmental impact calculation methodology. \n",
    "# The Social Cost of Carbon discounted at 3% applied here is roughly $100 USD per metric ton of emissions."
   ]
  },
  {
   "cell_type": "code",
   "execution_count": 4,
   "metadata": {},
   "outputs": [
    {
     "data": {
      "text/html": [
       "<div><style>\n",
       ".dataframe > thead > tr > th,\n",
       ".dataframe > tbody > tr > td {\n",
       "  text-align: right;\n",
       "}\n",
       "</style>\n",
       "<small>shape: (5, 55)</small><table border=\"1\" class=\"dataframe\"><thead><tr><th>Year</th><th>Company Name</th><th>Country</th><th>Industry (Exiobase)</th><th>GHG Intensity (Sales)</th><th>GHG Intensity (Op Income)</th><th>Total GHG Environmental Impact (Scope 1, 2, 3)</th><th>Scope 1</th><th>Scope 2</th><th>Scope 3 </th><th>Business Travel</th><th>Business Travel Set</th><th>Business Travel Imputed</th><th>Capital Goods</th><th>Capital Goods Set</th><th>Capital Goods Imputed</th><th>Downstream Leased Assets</th><th>Downstream Leased Assets Set</th><th>Downstream Leased Assets Imputed</th><th>Downstream Transportation and Distribution</th><th>Downstream Transportation and Distribution Set</th><th>Downstream Transportation and Distribution Imputed</th><th>Employee Commuting</th><th>Employee Commuting Set</th><th>Employee Commuting Imputed</th><th>End of Life Treatment of Sold Products</th><th>End of Life Treatment of Sold Products Set</th><th>End of Life Treatment of Sold Products Imputed</th><th>Franchises</th><th>Franchises Set</th><th>Franchises Imputed</th><th>Fuel-and-energy-related activities (not included in Scope 1 or 2)</th><th>Fuel-and-energy-related activities (not included in Scope 1 or 2) Set</th><th>Fuel-and-energy-related activities (not included in Scope 1 or 2) Imputed</th><th>Investments</th><th>Investments Set</th><th>Investments Imputed</th><th>Processing of Sold Products</th><th>Processing of Sold Products Set</th><th>Processing of Sold Products Imputed</th><th>Purchased Goods and Services</th><th>Purchased Goods and Services Set</th><th>Purchased Goods and Services Imputed</th><th>Upstream Leased Assets</th><th>Upstream Leased Assets Set</th><th>Upstream Leased Assets Imputed</th><th>Upstream Transportation and Distribution</th><th>Upstream Transportation and Distribution Set</th><th>Upstream Transportation and Distribution Imputed</th><th>Use of Sold Products</th><th>Use of Sold Products Set</th><th>Use of Sold Products Imputed</th><th>Waste Generated in Operations</th><th>Waste Generated in Operations Set</th><th>Waste Generated in Operations Imputed</th></tr><tr><td>i64</td><td>str</td><td>str</td><td>str</td><td>f64</td><td>f64</td><td>f64</td><td>f64</td><td>f64</td><td>f64</td><td>f64</td><td>str</td><td>i64</td><td>f64</td><td>str</td><td>i64</td><td>f64</td><td>str</td><td>i64</td><td>f64</td><td>str</td><td>i64</td><td>f64</td><td>str</td><td>i64</td><td>f64</td><td>str</td><td>i64</td><td>f64</td><td>str</td><td>i64</td><td>f64</td><td>str</td><td>i64</td><td>f64</td><td>str</td><td>i64</td><td>f64</td><td>str</td><td>i64</td><td>f64</td><td>str</td><td>i64</td><td>f64</td><td>str</td><td>i64</td><td>f64</td><td>str</td><td>i64</td><td>f64</td><td>str</td><td>i64</td><td>f64</td><td>str</td><td>i64</td></tr></thead><tbody><tr><td>2020</td><td>&quot;REA GROUP LTD&quot;</td><td>&quot;AUSTRALIA&quot;</td><td>&quot;Recreational, …</td><td>-0.023173</td><td>-0.049552</td><td>-1.4103e7</td><td>-221.094759</td><td>-303247.25463</td><td>-1.3799e7</td><td>-692784.635251</td><td>&quot;train&quot;</td><td>0</td><td>-132025.156166</td><td>&quot;predicted&quot;</td><td>1</td><td>-95544.52091</td><td>&quot;predicted&quot;</td><td>1</td><td>-83197.957861</td><td>&quot;predicted&quot;</td><td>1</td><td>-201985.854948</td><td>&quot;train&quot;</td><td>0</td><td>-390074.325036</td><td>&quot;predicted&quot;</td><td>1</td><td>0.0</td><td>&quot;predicted&quot;</td><td>1</td><td>-27889.524616</td><td>&quot;train&quot;</td><td>0</td><td>0.0</td><td>&quot;predicted&quot;</td><td>1</td><td>-1.0547e7</td><td>&quot;predicted&quot;</td><td>1</td><td>-111905.533085</td><td>&quot;train&quot;</td><td>0</td><td>-321534.949706</td><td>&quot;train&quot;</td><td>0</td><td>-450357.390362</td><td>&quot;predicted&quot;</td><td>1</td><td>-698574.159444</td><td>&quot;predicted&quot;</td><td>1</td><td>-46619.409211</td><td>&quot;train&quot;</td><td>0</td></tr><tr><td>2020</td><td>&quot;SEEK LTD&quot;</td><td>&quot;AUSTRALIA&quot;</td><td>&quot;Recreational, …</td><td>-0.01878</td><td>-0.115489</td><td>-2.0675e7</td><td>-1.1584e6</td><td>-360068.607726</td><td>-1.9156e7</td><td>-866375.606134</td><td>&quot;test&quot;</td><td>0</td><td>-97281.694017</td><td>&quot;train&quot;</td><td>0</td><td>-305426.617255</td><td>&quot;predicted&quot;</td><td>1</td><td>-1.5431e6</td><td>&quot;predicted&quot;</td><td>1</td><td>-118127.771307</td><td>&quot;train&quot;</td><td>0</td><td>-349645.569081</td><td>&quot;predicted&quot;</td><td>1</td><td>0.0</td><td>&quot;predicted&quot;</td><td>1</td><td>-33480.063525</td><td>&quot;test&quot;</td><td>0</td><td>0.0</td><td>&quot;predicted&quot;</td><td>1</td><td>-2.1879e6</td><td>&quot;predicted&quot;</td><td>1</td><td>-272262.403386</td><td>&quot;train&quot;</td><td>0</td><td>-375229.391209</td><td>&quot;train&quot;</td><td>0</td><td>-1.0644e6</td><td>&quot;predicted&quot;</td><td>1</td><td>-1.1707e7</td><td>&quot;predicted&quot;</td><td>1</td><td>-236255.542613</td><td>&quot;train&quot;</td><td>0</td></tr><tr><td>2020</td><td>&quot;SIMS LTD&quot;</td><td>&quot;UNITED STATES&quot;</td><td>&quot;Manufacture of…</td><td>-0.527767</td><td>null</td><td>-1.7911e9</td><td>-2.0136e7</td><td>-2.1010e7</td><td>-1.7499e9</td><td>-655425.937951</td><td>&quot;predicted&quot;</td><td>1</td><td>-8.6146e6</td><td>&quot;predicted&quot;</td><td>1</td><td>-1.9103e6</td><td>&quot;predicted&quot;</td><td>1</td><td>-3.6705e7</td><td>&quot;train&quot;</td><td>0</td><td>-1.2879e6</td><td>&quot;predicted&quot;</td><td>1</td><td>-1.0641e6</td><td>&quot;predicted&quot;</td><td>1</td><td>0.0</td><td>&quot;predicted&quot;</td><td>1</td><td>-6.2030e6</td><td>&quot;predicted&quot;</td><td>1</td><td>0.0</td><td>&quot;predicted&quot;</td><td>1</td><td>-2.8780e8</td><td>&quot;predicted&quot;</td><td>1</td><td>-9.2062e7</td><td>&quot;predicted&quot;</td><td>1</td><td>-455771.053464</td><td>&quot;predicted&quot;</td><td>1</td><td>-1.2318e7</td><td>&quot;predicted&quot;</td><td>1</td><td>-1.0668e9</td><td>&quot;predicted&quot;</td><td>1</td><td>-2.3408e8</td><td>&quot;train&quot;</td><td>0</td></tr><tr><td>2020</td><td>&quot;TRANSURBAN GRO…</td><td>&quot;AUSTRALIA&quot;</td><td>&quot;Other land tra…</td><td>-0.110958</td><td>-0.605164</td><td>-2.7690e8</td><td>-1.3869e6</td><td>-4.3991e7</td><td>-2.3152e8</td><td>-809206.818416</td><td>&quot;train&quot;</td><td>0</td><td>-1.2803e8</td><td>&quot;train&quot;</td><td>0</td><td>-1.1198e6</td><td>&quot;predicted&quot;</td><td>1</td><td>-947548.9677</td><td>&quot;predicted&quot;</td><td>1</td><td>-749827.083107</td><td>&quot;train&quot;</td><td>0</td><td>-349645.569081</td><td>&quot;predicted&quot;</td><td>1</td><td>0.0</td><td>&quot;predicted&quot;</td><td>1</td><td>-5.4989e6</td><td>&quot;train&quot;</td><td>0</td><td>-1.4702e7</td><td>&quot;test&quot;</td><td>0</td><td>-2.4241e7</td><td>&quot;predicted&quot;</td><td>1</td><td>-5.1044e7</td><td>&quot;train&quot;</td><td>0</td><td>-618995.83864</td><td>&quot;predicted&quot;</td><td>1</td><td>-2.5552e6</td><td>&quot;predicted&quot;</td><td>1</td><td>-146402.632503</td><td>&quot;predicted&quot;</td><td>1</td><td>-707819.078872</td><td>&quot;test&quot;</td><td>0</td></tr><tr><td>2020</td><td>&quot;WORLEY LTD&quot;</td><td>&quot;AUSTRALIA&quot;</td><td>&quot;Extraction of …</td><td>-0.02859</td><td>-0.591012</td><td>-2.5737e8</td><td>-1.8544e7</td><td>-2.4419e7</td><td>-2.1441e8</td><td>-4.5564e6</td><td>&quot;train&quot;</td><td>0</td><td>-6.9376e6</td><td>&quot;predicted&quot;</td><td>1</td><td>-735297.998935</td><td>&quot;predicted&quot;</td><td>1</td><td>-4.8699e6</td><td>&quot;predicted&quot;</td><td>1</td><td>-1.4352e6</td><td>&quot;predicted&quot;</td><td>1</td><td>-7.8678e6</td><td>&quot;predicted&quot;</td><td>1</td><td>0.0</td><td>&quot;predicted&quot;</td><td>1</td><td>-4.5167e6</td><td>&quot;predicted&quot;</td><td>1</td><td>0.0</td><td>&quot;predicted&quot;</td><td>1</td><td>-1.8740e7</td><td>&quot;predicted&quot;</td><td>1</td><td>-1.9991e7</td><td>&quot;predicted&quot;</td><td>1</td><td>-313970.350447</td><td>&quot;predicted&quot;</td><td>1</td><td>-5.6853e6</td><td>&quot;predicted&quot;</td><td>1</td><td>-1.3746e8</td><td>&quot;predicted&quot;</td><td>1</td><td>-1.2985e6</td><td>&quot;predicted&quot;</td><td>1</td></tr></tbody></table></div>"
      ],
      "text/plain": [
       "shape: (5, 55)\n",
       "┌──────┬────────────┬─────────┬────────────┬───┬────────────┬────────────┬────────────┬────────────┐\n",
       "│ Year ┆ Company    ┆ Country ┆ Industry   ┆ … ┆ Use of     ┆ Waste      ┆ Waste      ┆ Waste      │\n",
       "│ ---  ┆ Name       ┆ ---     ┆ (Exiobase) ┆   ┆ Sold       ┆ Generated  ┆ Generated  ┆ Generated  │\n",
       "│ i64  ┆ ---        ┆ str     ┆ ---        ┆   ┆ Products   ┆ in         ┆ in         ┆ in         │\n",
       "│      ┆ str        ┆         ┆ str        ┆   ┆ Imputed    ┆ Operations ┆ Operations ┆ Operations │\n",
       "│      ┆            ┆         ┆            ┆   ┆ ---        ┆ ---        ┆ Se…        ┆ Im…        │\n",
       "│      ┆            ┆         ┆            ┆   ┆ i64        ┆ f64        ┆ ---        ┆ ---        │\n",
       "│      ┆            ┆         ┆            ┆   ┆            ┆            ┆ str        ┆ i64        │\n",
       "╞══════╪════════════╪═════════╪════════════╪═══╪════════════╪════════════╪════════════╪════════════╡\n",
       "│ 2020 ┆ REA GROUP  ┆ AUSTRAL ┆ Recreation ┆ … ┆ 1          ┆ -46619.409 ┆ train      ┆ 0          │\n",
       "│      ┆ LTD        ┆ IA      ┆ al,        ┆   ┆            ┆ 211        ┆            ┆            │\n",
       "│      ┆            ┆         ┆ cultural   ┆   ┆            ┆            ┆            ┆            │\n",
       "│      ┆            ┆         ┆ and sport… ┆   ┆            ┆            ┆            ┆            │\n",
       "│ 2020 ┆ SEEK LTD   ┆ AUSTRAL ┆ Recreation ┆ … ┆ 1          ┆ -236255.54 ┆ train      ┆ 0          │\n",
       "│      ┆            ┆ IA      ┆ al,        ┆   ┆            ┆ 2613       ┆            ┆            │\n",
       "│      ┆            ┆         ┆ cultural   ┆   ┆            ┆            ┆            ┆            │\n",
       "│      ┆            ┆         ┆ and sport… ┆   ┆            ┆            ┆            ┆            │\n",
       "│ 2020 ┆ SIMS LTD   ┆ UNITED  ┆ Manufactur ┆ … ┆ 1          ┆ -2.3408e8  ┆ train      ┆ 0          │\n",
       "│      ┆            ┆ STATES  ┆ e of basic ┆   ┆            ┆            ┆            ┆            │\n",
       "│      ┆            ┆         ┆ iron and   ┆   ┆            ┆            ┆            ┆            │\n",
       "│      ┆            ┆         ┆ st…        ┆   ┆            ┆            ┆            ┆            │\n",
       "│ 2020 ┆ TRANSURBAN ┆ AUSTRAL ┆ Other land ┆ … ┆ 1          ┆ -707819.07 ┆ test       ┆ 0          │\n",
       "│      ┆ GROUP      ┆ IA      ┆ transport  ┆   ┆            ┆ 8872       ┆            ┆            │\n",
       "│ 2020 ┆ WORLEY LTD ┆ AUSTRAL ┆ Extraction ┆ … ┆ 1          ┆ -1.2985e6  ┆ predicted  ┆ 1          │\n",
       "│      ┆            ┆ IA      ┆ of crude   ┆   ┆            ┆            ┆            ┆            │\n",
       "│      ┆            ┆         ┆ petroleum  ┆   ┆            ┆            ┆            ┆            │\n",
       "│      ┆            ┆         ┆ an…        ┆   ┆            ┆            ┆            ┆            │\n",
       "└──────┴────────────┴─────────┴────────────┴───┴────────────┴────────────┴────────────┴────────────┘"
      ]
     },
     "execution_count": 4,
     "metadata": {},
     "output_type": "execute_result"
    }
   ],
   "source": [
    "# Dataset with 0% rate\n",
    "\n",
    "df_0_percent = pl.read_excel(\n",
    "    \"/home/adamprzychodni/Documents/GitHub/scope-3-emissions-prediction/data/01_raw/IWA-External-Scope-3-Data.xlsx\",\n",
    "    sheet_name=\"0%\",\n",
    ")\n",
    "\n",
    "# 0% tab includes all raw outputs, discounted at 0%, from our environmental impact calculation methodology. \n",
    "# The Social Cost of Carbon discounted at 0% applied here is roughly $300 USD per metric ton of emissions"
   ]
  },
  {
   "attachments": {},
   "cell_type": "markdown",
   "metadata": {},
   "source": [
    "# EDA"
   ]
  },
  {
   "attachments": {},
   "cell_type": "markdown",
   "metadata": {},
   "source": [
    "1. Data profiling\n",
    "2. "
   ]
  },
  {
   "cell_type": "code",
   "execution_count": 8,
   "metadata": {},
   "outputs": [],
   "source": [
    "# load training dataset as pandas dataframe to use ydata_profiling\n",
    "df_eda = pd.read_excel(\"/home/adamprzychodni/Documents/GitHub/scope-3-emissions-prediction/data/01_raw/IWA-External-Scope-3-Data.xlsx\", sheet_name=\"3%\")"
   ]
  },
  {
   "cell_type": "code",
   "execution_count": 11,
   "metadata": {},
   "outputs": [],
   "source": [
    "def data_profiling(df: pd.DataFrame, name: str=\"data_profiling_report\", interface: str=\"html\") -> None:\n",
    "  \"\"\"\n",
    "  This function generates a data profiling report using the pandas_profiling package.\n",
    "  \n",
    "  Args:\n",
    "      df (pd.DataFrame): The DataFrame to profile.\n",
    "      name (str, optional): The title of the profile report. Defaults to \"data_profiling_report\".\n",
    "      interface (str, optional): The format of the report. Defaults to \"html\".\n",
    "                                  Choose between 'html' or 'widget'.\n",
    "  \n",
    "  Raises:\n",
    "      ValueError: If df is not a pandas DataFrame or name is not a string or \n",
    "                  if interface is not 'html' or 'widget'\n",
    "  \"\"\"\n",
    "  \n",
    "  # Check if df is a pandas DataFrame\n",
    "  if not isinstance(df, pd.DataFrame):\n",
    "    raise ValueError(\"df should be a pandas DataFrame\")\n",
    "    \n",
    "  # Check if name is a string\n",
    "  if not isinstance(name, str):\n",
    "    raise ValueError(\"name should be a string\")\n",
    "  \n",
    "  # Check if interface is a string and a valid option\n",
    "  if not isinstance(interface, str) or interface not in ['html', 'widget']:\n",
    "    raise ValueError(\"interface should be a string, either 'html' or 'widget'\")\n",
    "  \n",
    "  profile = ProfileReport(df, title=name, explorative=True)\n",
    "\n",
    "  if interface == \"html\":\n",
    "    profile.to_file(f\"{name}.html\")\n",
    "    logging.info(f\"Report {name} generated in html format, check files.\")\n",
    "    \n",
    "  elif interface == \"widget\":\n",
    "    logging.info(f\"Report {name} will be generated as a widget, it might take a while.\")\n",
    "    profile.to_widgets()\n"
   ]
  },
  {
   "cell_type": "code",
   "execution_count": null,
   "metadata": {},
   "outputs": [],
   "source": [
    "# Raw data profiling\n",
    "data_profiling(df_eda)"
   ]
  },
  {
   "attachments": {},
   "cell_type": "markdown",
   "metadata": {},
   "source": [
    "# Feature engineering"
   ]
  },
  {
   "cell_type": "code",
   "execution_count": null,
   "metadata": {},
   "outputs": [],
   "source": []
  },
  {
   "attachments": {},
   "cell_type": "markdown",
   "metadata": {},
   "source": [
    "# Train, test split"
   ]
  },
  {
   "cell_type": "code",
   "execution_count": null,
   "metadata": {},
   "outputs": [],
   "source": []
  },
  {
   "attachments": {},
   "cell_type": "markdown",
   "metadata": {},
   "source": [
    "# Modelling"
   ]
  },
  {
   "cell_type": "code",
   "execution_count": null,
   "metadata": {},
   "outputs": [],
   "source": []
  },
  {
   "attachments": {},
   "cell_type": "markdown",
   "metadata": {},
   "source": [
    "# Model evaluation"
   ]
  },
  {
   "cell_type": "code",
   "execution_count": null,
   "metadata": {},
   "outputs": [],
   "source": []
  },
  {
   "attachments": {},
   "cell_type": "markdown",
   "metadata": {},
   "source": [
    "# Hyperparameter tuning"
   ]
  },
  {
   "cell_type": "code",
   "execution_count": null,
   "metadata": {},
   "outputs": [],
   "source": []
  },
  {
   "attachments": {},
   "cell_type": "markdown",
   "metadata": {},
   "source": [
    "# Model Interpretation"
   ]
  },
  {
   "cell_type": "code",
   "execution_count": null,
   "metadata": {},
   "outputs": [],
   "source": []
  },
  {
   "attachments": {},
   "cell_type": "markdown",
   "metadata": {},
   "source": [
    "# Results and conclusions"
   ]
  },
  {
   "cell_type": "code",
   "execution_count": null,
   "metadata": {},
   "outputs": [],
   "source": []
  },
  {
   "attachments": {},
   "cell_type": "markdown",
   "metadata": {},
   "source": [
    "# References and Acknowledgments"
   ]
  },
  {
   "attachments": {},
   "cell_type": "markdown",
   "metadata": {},
   "source": []
  }
 ],
 "metadata": {
  "kernelspec": {
   "display_name": "Python 3 (ipykernel)",
   "language": "python",
   "name": "python3"
  },
  "language_info": {
   "codemirror_mode": {
    "name": "ipython",
    "version": 3
   },
   "file_extension": ".py",
   "mimetype": "text/x-python",
   "name": "python",
   "nbconvert_exporter": "python",
   "pygments_lexer": "ipython3",
   "version": "3.10.11"
  }
 },
 "nbformat": 4,
 "nbformat_minor": 4
}
